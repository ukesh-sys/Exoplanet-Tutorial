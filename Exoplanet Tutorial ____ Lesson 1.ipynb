{
 "cells": [
  {
   "cell_type": "markdown",
   "id": "868d0df5",
   "metadata": {},
   "source": [
    "## Firstly, I am trying to figure out how to use Dan Foreman Mackey's \"exoplanet\" library, so lets try it out.\n",
    "### Link to the library: https://docs.exoplanet.codes/en/latest/"
   ]
  },
  {
   "cell_type": "markdown",
   "id": "10953cd3",
   "metadata": {},
   "source": [
    "### I have literally no idea where to begin :::- Date: 15 dec--2021\n",
    "#### I am trying to learn from: https://docs.exoplanet.codes/en/latest/tutorials/data-and-models/#orbital-conventions"
   ]
  },
  {
   "cell_type": "code",
   "execution_count": 1,
   "id": "a72a676a",
   "metadata": {},
   "outputs": [
    {
     "name": "stderr",
     "output_type": "stream",
     "text": [
      "WARNING (theano.configdefaults): g++ not available, if using conda: `conda install m2w64-toolchain`\n",
      "WARNING (theano.configdefaults): g++ not detected ! Theano will be unable to execute optimized C-implementations (for both CPU and GPU) and will default to Python implementations. Performance will be severely degraded. To remove this warning, set Theano flags cxx to an empty string.\n",
      "WARNING (theano.tensor.blas): Using NumPy C-API based implementation for BLAS functions.\n"
     ]
    }
   ],
   "source": [
    "## Lets Bring some library\n",
    "import matplotlib.pyplot as plt\n",
    "import exoplanet as xo\n",
    "import numpy as np\n",
    "import scipy.stats as ss\n",
    "## I guess this will be enough"
   ]
  },
  {
   "cell_type": "code",
   "execution_count": 6,
   "id": "4ccc0131",
   "metadata": {},
   "outputs": [],
   "source": [
    "##Lets try to define orbit for a body!! apparently exoplanet has a funtion for this. Trying it supposedly for \n",
    "#something like earth\n",
    "orbit=xo.orbits.KeplerianOrbit(period = 365.0, #in days\n",
    "                               t0 = 0, # I do not this value but I guess for earth it would be 0\n",
    "                               incl = 0.37 * np.pi, # I googled inclination of Earth and came up with this - Maybe I am wrong, If so, please mail me and tell what is wrong!!!\n",
    "                               ecc = 0.0167, # I googles this one for earth\n",
    "                               omega = 1.9933026, #I do not know dude I am googling this value, so ever if you read and it is wrong mail me\n",
    "                               Omega = 6.08665006,\n",
    "                               m_planet=0.000003)"
   ]
  },
  {
   "cell_type": "code",
   "execution_count": null,
   "id": "a06f0ceb",
   "metadata": {},
   "outputs": [],
   "source": []
  }
 ],
 "metadata": {
  "kernelspec": {
   "display_name": "Python 3",
   "language": "python",
   "name": "python3"
  },
  "language_info": {
   "codemirror_mode": {
    "name": "ipython",
    "version": 3
   },
   "file_extension": ".py",
   "mimetype": "text/x-python",
   "name": "python",
   "nbconvert_exporter": "python",
   "pygments_lexer": "ipython3",
   "version": "3.8.8"
  }
 },
 "nbformat": 4,
 "nbformat_minor": 5
}
